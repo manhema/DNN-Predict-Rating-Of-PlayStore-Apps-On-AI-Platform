{
 "cells": [
  {
   "cell_type": "markdown",
   "metadata": {},
   "source": [
    "### Google Play Store Apps\n",
    "### Web scraped data of 10k Play Store apps for analysing the Android market.\n",
    "\n",
    "The data to be utilized for predicting if an app will have a high rating or low rating on Google AI Platform."
   ]
  },
  {
   "cell_type": "code",
   "execution_count": 1,
   "metadata": {},
   "outputs": [],
   "source": [
    "import numpy as np # linear algebra\n",
    "import pandas as pd #Dee data processing, CSV file I/O (e.g. pd.read_csv)\n",
    "import tensorflow as tf\n",
    "\n",
    "import os\n",
    "\n",
    "%matplotlib inline\n",
    "import matplotlib.pyplot as plt\n",
    "import seaborn; seaborn.set() # set plot style\n",
    "import seaborn as sns; seaborn.set() # set plot style"
   ]
  },
  {
   "cell_type": "code",
   "execution_count": 2,
   "metadata": {},
   "outputs": [],
   "source": [
    "df_app_data_raw = pd.read_csv('./data/googleplaystore.csv')\n",
    "# df_app_user_reviews_raw = pd.read_csv('./data/googleplaystore_user_reviews.csv')"
   ]
  },
  {
   "cell_type": "markdown",
   "metadata": {},
   "source": [
    "## Data Wrangling\n",
    "\n",
    "#### Drop Duplicates"
   ]
  },
  {
   "cell_type": "code",
   "execution_count": 3,
   "metadata": {},
   "outputs": [
    {
     "data": {
      "text/html": [
       "<div>\n",
       "<style scoped>\n",
       "    .dataframe tbody tr th:only-of-type {\n",
       "        vertical-align: middle;\n",
       "    }\n",
       "\n",
       "    .dataframe tbody tr th {\n",
       "        vertical-align: top;\n",
       "    }\n",
       "\n",
       "    .dataframe thead th {\n",
       "        text-align: right;\n",
       "    }\n",
       "</style>\n",
       "<table border=\"1\" class=\"dataframe\">\n",
       "  <thead>\n",
       "    <tr style=\"text-align: right;\">\n",
       "      <th></th>\n",
       "      <th>App</th>\n",
       "      <th>Category</th>\n",
       "      <th>Rating</th>\n",
       "      <th>Reviews</th>\n",
       "      <th>Size</th>\n",
       "      <th>Installs</th>\n",
       "      <th>Type</th>\n",
       "      <th>Price</th>\n",
       "      <th>Content Rating</th>\n",
       "      <th>Genres</th>\n",
       "      <th>Last Updated</th>\n",
       "      <th>Current Ver</th>\n",
       "      <th>Android Ver</th>\n",
       "    </tr>\n",
       "  </thead>\n",
       "  <tbody>\n",
       "    <tr>\n",
       "      <th>0</th>\n",
       "      <td>Photo Editor &amp; Candy Camera &amp; Grid &amp; ScrapBook</td>\n",
       "      <td>ART_AND_DESIGN</td>\n",
       "      <td>4.1</td>\n",
       "      <td>159</td>\n",
       "      <td>19M</td>\n",
       "      <td>10,000+</td>\n",
       "      <td>Free</td>\n",
       "      <td>0</td>\n",
       "      <td>Everyone</td>\n",
       "      <td>Art &amp; Design</td>\n",
       "      <td>January 7, 2018</td>\n",
       "      <td>1.0.0</td>\n",
       "      <td>4.0.3 and up</td>\n",
       "    </tr>\n",
       "    <tr>\n",
       "      <th>1</th>\n",
       "      <td>Coloring book moana</td>\n",
       "      <td>ART_AND_DESIGN</td>\n",
       "      <td>3.9</td>\n",
       "      <td>967</td>\n",
       "      <td>14M</td>\n",
       "      <td>500,000+</td>\n",
       "      <td>Free</td>\n",
       "      <td>0</td>\n",
       "      <td>Everyone</td>\n",
       "      <td>Art &amp; Design;Pretend Play</td>\n",
       "      <td>January 15, 2018</td>\n",
       "      <td>2.0.0</td>\n",
       "      <td>4.0.3 and up</td>\n",
       "    </tr>\n",
       "    <tr>\n",
       "      <th>2</th>\n",
       "      <td>U Launcher Lite – FREE Live Cool Themes, Hide ...</td>\n",
       "      <td>ART_AND_DESIGN</td>\n",
       "      <td>4.7</td>\n",
       "      <td>87510</td>\n",
       "      <td>8.7M</td>\n",
       "      <td>5,000,000+</td>\n",
       "      <td>Free</td>\n",
       "      <td>0</td>\n",
       "      <td>Everyone</td>\n",
       "      <td>Art &amp; Design</td>\n",
       "      <td>August 1, 2018</td>\n",
       "      <td>1.2.4</td>\n",
       "      <td>4.0.3 and up</td>\n",
       "    </tr>\n",
       "    <tr>\n",
       "      <th>3</th>\n",
       "      <td>Sketch - Draw &amp; Paint</td>\n",
       "      <td>ART_AND_DESIGN</td>\n",
       "      <td>4.5</td>\n",
       "      <td>215644</td>\n",
       "      <td>25M</td>\n",
       "      <td>50,000,000+</td>\n",
       "      <td>Free</td>\n",
       "      <td>0</td>\n",
       "      <td>Teen</td>\n",
       "      <td>Art &amp; Design</td>\n",
       "      <td>June 8, 2018</td>\n",
       "      <td>Varies with device</td>\n",
       "      <td>4.2 and up</td>\n",
       "    </tr>\n",
       "    <tr>\n",
       "      <th>4</th>\n",
       "      <td>Pixel Draw - Number Art Coloring Book</td>\n",
       "      <td>ART_AND_DESIGN</td>\n",
       "      <td>4.3</td>\n",
       "      <td>967</td>\n",
       "      <td>2.8M</td>\n",
       "      <td>100,000+</td>\n",
       "      <td>Free</td>\n",
       "      <td>0</td>\n",
       "      <td>Everyone</td>\n",
       "      <td>Art &amp; Design;Creativity</td>\n",
       "      <td>June 20, 2018</td>\n",
       "      <td>1.1</td>\n",
       "      <td>4.4 and up</td>\n",
       "    </tr>\n",
       "  </tbody>\n",
       "</table>\n",
       "</div>"
      ],
      "text/plain": [
       "                                                 App        Category  Rating  \\\n",
       "0     Photo Editor & Candy Camera & Grid & ScrapBook  ART_AND_DESIGN     4.1   \n",
       "1                                Coloring book moana  ART_AND_DESIGN     3.9   \n",
       "2  U Launcher Lite – FREE Live Cool Themes, Hide ...  ART_AND_DESIGN     4.7   \n",
       "3                              Sketch - Draw & Paint  ART_AND_DESIGN     4.5   \n",
       "4              Pixel Draw - Number Art Coloring Book  ART_AND_DESIGN     4.3   \n",
       "\n",
       "  Reviews  Size     Installs  Type Price Content Rating  \\\n",
       "0     159   19M      10,000+  Free     0       Everyone   \n",
       "1     967   14M     500,000+  Free     0       Everyone   \n",
       "2   87510  8.7M   5,000,000+  Free     0       Everyone   \n",
       "3  215644   25M  50,000,000+  Free     0           Teen   \n",
       "4     967  2.8M     100,000+  Free     0       Everyone   \n",
       "\n",
       "                      Genres      Last Updated         Current Ver  \\\n",
       "0               Art & Design   January 7, 2018               1.0.0   \n",
       "1  Art & Design;Pretend Play  January 15, 2018               2.0.0   \n",
       "2               Art & Design    August 1, 2018               1.2.4   \n",
       "3               Art & Design      June 8, 2018  Varies with device   \n",
       "4    Art & Design;Creativity     June 20, 2018                 1.1   \n",
       "\n",
       "    Android Ver  \n",
       "0  4.0.3 and up  \n",
       "1  4.0.3 and up  \n",
       "2  4.0.3 and up  \n",
       "3    4.2 and up  \n",
       "4    4.4 and up  "
      ]
     },
     "execution_count": 3,
     "metadata": {},
     "output_type": "execute_result"
    }
   ],
   "source": [
    "df = df_app_data_raw.copy()\n",
    "# df.drop_duplicates(inplace=True)\n",
    "df.drop_duplicates(subset='App', inplace=True)\n",
    "df = df[df['Android Ver'] != np.nan]\n",
    "df = df[df['Android Ver'] != 'NaN']\n",
    "df = df[df['Installs'] != 'Free']\n",
    "df = df[df['Installs'] != 'Paid']\n",
    "df_dropped_duplicates = df\n",
    "df_dropped_duplicates.head()"
   ]
  },
  {
   "cell_type": "code",
   "execution_count": null,
   "metadata": {},
   "outputs": [],
   "source": []
  },
  {
   "cell_type": "markdown",
   "metadata": {},
   "source": [
    "1. Convert app rating to numeric\n",
    "2. Convert app number of reviews to numeric\n",
    "3. Convert app sizes to be in MB (megabytes)\n",
    "4. Convert number of app installs to numeric\n",
    "5. Convert app price to numeric\n",
    "6. Get from supported android version as numeric"
   ]
  },
  {
   "cell_type": "code",
   "execution_count": 4,
   "metadata": {},
   "outputs": [],
   "source": [
    "df = df_dropped_duplicates.copy()\n",
    "# Convert app rating to numeric\n",
    "df['Rating'] = pd.to_numeric(df['Rating'])\n",
    "\n",
    "# Convert app number of reviews to numeric\n",
    "df['Reviews'] = pd.to_numeric(df['Reviews'])\n",
    "\n",
    "# Convert app sizes to be in MB (megabytes)\n",
    "df.loc[df['Size'] == 'Varies with device', ['Size']]  = np.nan\n",
    "df.loc[df['Size'].str.contains('M') == True, ['Size']] = pd.to_numeric(df['Size'][df['Size'].str.contains('M') == True].str.replace('M', ''))\n",
    "# Converting Kb to MB\n",
    "df.loc[df['Size'].str.contains('k') == True, ['Size']] = pd.to_numeric(df['Size'][df['Size'].str.contains('k') == True].str.replace('k', '')) / 10 ** 3\n",
    "df['Size'] = pd.to_numeric(df['Size'])\n",
    "\n",
    "#Convert number of app installs to numeric\n",
    "df['Installs'] = df['Installs'].str.replace(',', '')\n",
    "df['Installs'] = df['Installs'].str.replace('+', '')\n",
    "df['Installs'] = pd.to_numeric(df['Installs'])\n",
    "\n",
    "# Convert app price to numeric\n",
    "df['Price'] = df['Price'].str.replace('$', '')\n",
    "df['Price'] = pd.to_numeric(df['Price'])\n",
    "\n",
    "# Get from supported android version as numeric\n",
    "df.loc[df['Android Ver'] == 'Varies with device', ['Android Ver']]  = np.nan\n",
    "df.loc[df['Android Ver'].str.contains('.') == True, ['Android Ver']] = df['Android Ver'][df['Android Ver'].str.contains('.') == True].str.split('.').str[0]\n",
    "df['Android_Ver'] = pd.to_numeric(df['Android Ver'])\n",
    "df.pop('Android Ver')\n",
    "df['Android_Ver'] = df['Android_Ver'].astype(str)"
   ]
  },
  {
   "cell_type": "code",
   "execution_count": 5,
   "metadata": {},
   "outputs": [],
   "source": [
    "data = df.copy()\n",
    "data = data.dropna()\n",
    "\n",
    "data['Content_Rating'] = data['Content Rating']\n",
    "data.pop('Content Rating')\n",
    "\n",
    "data.loc[data['Rating'].astype(float) < 3.5, ['Rating']] = 0\n",
    "data.loc[data['Rating'].astype(float) >= 3.5, ['Rating']] = 1\n",
    "data['Rating'] = data['Rating'].astype('int64')"
   ]
  },
  {
   "cell_type": "code",
   "execution_count": 6,
   "metadata": {},
   "outputs": [
    {
     "data": {
      "text/html": [
       "<div>\n",
       "<style scoped>\n",
       "    .dataframe tbody tr th:only-of-type {\n",
       "        vertical-align: middle;\n",
       "    }\n",
       "\n",
       "    .dataframe tbody tr th {\n",
       "        vertical-align: top;\n",
       "    }\n",
       "\n",
       "    .dataframe thead th {\n",
       "        text-align: right;\n",
       "    }\n",
       "</style>\n",
       "<table border=\"1\" class=\"dataframe\">\n",
       "  <thead>\n",
       "    <tr style=\"text-align: right;\">\n",
       "      <th></th>\n",
       "      <th>Rating</th>\n",
       "      <th>Reviews</th>\n",
       "      <th>Size</th>\n",
       "      <th>Installs</th>\n",
       "      <th>Price</th>\n",
       "    </tr>\n",
       "  </thead>\n",
       "  <tbody>\n",
       "    <tr>\n",
       "      <th>count</th>\n",
       "      <td>7023.000000</td>\n",
       "      <td>7.023000e+03</td>\n",
       "      <td>7023.000000</td>\n",
       "      <td>7.023000e+03</td>\n",
       "      <td>7023.000000</td>\n",
       "    </tr>\n",
       "    <tr>\n",
       "      <th>mean</th>\n",
       "      <td>0.904457</td>\n",
       "      <td>1.448548e+05</td>\n",
       "      <td>21.763199</td>\n",
       "      <td>4.470532e+06</td>\n",
       "      <td>1.174099</td>\n",
       "    </tr>\n",
       "    <tr>\n",
       "      <th>std</th>\n",
       "      <td>0.293985</td>\n",
       "      <td>1.024285e+06</td>\n",
       "      <td>22.729633</td>\n",
       "      <td>2.714532e+07</td>\n",
       "      <td>18.202768</td>\n",
       "    </tr>\n",
       "    <tr>\n",
       "      <th>min</th>\n",
       "      <td>0.000000</td>\n",
       "      <td>1.000000e+00</td>\n",
       "      <td>0.008500</td>\n",
       "      <td>1.000000e+00</td>\n",
       "      <td>0.000000</td>\n",
       "    </tr>\n",
       "    <tr>\n",
       "      <th>25%</th>\n",
       "      <td>1.000000</td>\n",
       "      <td>8.400000e+01</td>\n",
       "      <td>4.900000</td>\n",
       "      <td>1.000000e+04</td>\n",
       "      <td>0.000000</td>\n",
       "    </tr>\n",
       "    <tr>\n",
       "      <th>50%</th>\n",
       "      <td>1.000000</td>\n",
       "      <td>1.545000e+03</td>\n",
       "      <td>13.000000</td>\n",
       "      <td>1.000000e+05</td>\n",
       "      <td>0.000000</td>\n",
       "    </tr>\n",
       "    <tr>\n",
       "      <th>75%</th>\n",
       "      <td>1.000000</td>\n",
       "      <td>2.657950e+04</td>\n",
       "      <td>31.000000</td>\n",
       "      <td>1.000000e+06</td>\n",
       "      <td>0.000000</td>\n",
       "    </tr>\n",
       "    <tr>\n",
       "      <th>max</th>\n",
       "      <td>1.000000</td>\n",
       "      <td>4.489172e+07</td>\n",
       "      <td>100.000000</td>\n",
       "      <td>1.000000e+09</td>\n",
       "      <td>400.000000</td>\n",
       "    </tr>\n",
       "  </tbody>\n",
       "</table>\n",
       "</div>"
      ],
      "text/plain": [
       "            Rating       Reviews         Size      Installs        Price\n",
       "count  7023.000000  7.023000e+03  7023.000000  7.023000e+03  7023.000000\n",
       "mean      0.904457  1.448548e+05    21.763199  4.470532e+06     1.174099\n",
       "std       0.293985  1.024285e+06    22.729633  2.714532e+07    18.202768\n",
       "min       0.000000  1.000000e+00     0.008500  1.000000e+00     0.000000\n",
       "25%       1.000000  8.400000e+01     4.900000  1.000000e+04     0.000000\n",
       "50%       1.000000  1.545000e+03    13.000000  1.000000e+05     0.000000\n",
       "75%       1.000000  2.657950e+04    31.000000  1.000000e+06     0.000000\n",
       "max       1.000000  4.489172e+07   100.000000  1.000000e+09   400.000000"
      ]
     },
     "execution_count": 6,
     "metadata": {},
     "output_type": "execute_result"
    }
   ],
   "source": [
    "data.describe()"
   ]
  },
  {
   "cell_type": "markdown",
   "metadata": {},
   "source": [
    "### Normalize our numerical data"
   ]
  },
  {
   "cell_type": "code",
   "execution_count": 7,
   "metadata": {},
   "outputs": [],
   "source": [
    "from scipy import stats\n",
    "\n",
    "def normalize_boxcox(data):\n",
    "  # Copy the strictly positive data to posdata\n",
    "  posdata = data[data > 0]\n",
    "  \n",
    "  # Find the optimal Box-Cox transformation, and verify that λ is positive\n",
    "  bcdata, lam = stats.boxcox(posdata)\n",
    "  \n",
    "  x = np.empty_like(data)\n",
    "  x[data > 0] = bcdata\n",
    "  x[data == 0] = -1/lam\n",
    "  return x"
   ]
  },
  {
   "cell_type": "code",
   "execution_count": 8,
   "metadata": {},
   "outputs": [
    {
     "data": {
      "image/png": "[encoded data removed]",
      "text/plain": [
       "<Figure size 1008x1080 with 8 Axes>"
      ]
     },
     "metadata": {
      "needs_background": "light"
     },
     "output_type": "display_data"
    }
   ],
   "source": [
    "df_normalized = data.copy()\n",
    "\n",
    "cols = [\n",
    "  'Reviews',\n",
    "  'Size',\n",
    "  'Installs',\n",
    "  'Price',\n",
    "]\n",
    "i = 1\n",
    "plt.figure(figsize=(15,8))\n",
    "for col in cols:\n",
    "  df_normalized[col] = normalize_boxcox(df_normalized[col].values)\n",
    "\n",
    "  # plot both together to compare\n",
    "  ax = plt.subplot(6, 2, i)\n",
    "  ax.figure.set_size_inches(14,15)\n",
    "  \n",
    "  sns.distplot(data[col], ax=ax)\n",
    "  ax.set_title(col + \" - Original Data\")\n",
    "  \n",
    "  i += 1\n",
    "  ax = plt.subplot(6, 2, i)\n",
    "  sns.distplot(df_normalized[col], ax=ax)\n",
    "  ax.set_title(col + \" - Normalized data\")\n",
    "  i += 1\n",
    "\n",
    "plt.tight_layout()\n",
    "plt.show()"
   ]
  },
  {
   "cell_type": "markdown",
   "metadata": {},
   "source": [
    "### Split the data into training and testing sets"
   ]
  },
  {
   "cell_type": "code",
   "execution_count": 9,
   "metadata": {},
   "outputs": [],
   "source": [
    "from sklearn.model_selection import train_test_split\n",
    "\n",
    "train, test = train_test_split(df_normalized, random_state=0, test_size=0.3)\n",
    "train.to_csv('./data/train.csv',index=False)\n",
    "test.to_csv('./data/test.csv',index=False)"
   ]
  },
  {
   "cell_type": "code",
   "execution_count": 13,
   "metadata": {},
   "outputs": [
    {
     "data": {
      "text/plain": [
       "{'App': 'CA Speakers Free',\n",
       " 'Category': 'LIFESTYLE',\n",
       " 'Rating': 1,\n",
       " 'Reviews': 4,\n",
       " 'Size': 1.1900410784054827,\n",
       " 'Installs': 9,\n",
       " 'Type': 'Free',\n",
       " 'Price': 2.35152865360602,\n",
       " 'Genres': 'Lifestyle',\n",
       " 'Last Updated': 'September 30, 2015',\n",
       " 'Current Ver': '1.6',\n",
       " 'Android_Ver': '2.0',\n",
       " 'Content_Rating': 'Teen'}"
      ]
     },
     "execution_count": 13,
     "metadata": {},
     "output_type": "execute_result"
    }
   ],
   "source": [
    "test.iloc[0].to_dict()"
   ]
  },
  {
   "cell_type": "code",
   "execution_count": null,
   "metadata": {},
   "outputs": [],
   "source": []
  }
 ],
 "metadata": {
  "kernelspec": {
   "display_name": "Python 3",
   "language": "python",
   "name": "python3"
  },
  "language_info": {
   "codemirror_mode": {
    "name": "ipython",
    "version": 3
   },
   "file_extension": ".py",
   "mimetype": "text/x-python",
   "name": "python",
   "nbconvert_exporter": "python",
   "pygments_lexer": "ipython3",
   "version": "3.7.3"
  }
 },
 "nbformat": 4,
 "nbformat_minor": 2
}
